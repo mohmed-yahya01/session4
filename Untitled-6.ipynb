{
 "cells": [
  {
   "cell_type": "code",
   "execution_count": 3,
   "metadata": {},
   "outputs": [
    {
     "name": "stdout",
     "output_type": "stream",
     "text": [
      "15\n",
      "5\n",
      "50\n",
      "Error: Division by zero is not allowed.\n",
      "'add' أو 'subtract' أو 'multiply' أو 'divide'.\n"
     ]
    }
   ],
   "source": [
    "def calculator(a, b, operation):\n",
    "    if operation == \"add\":\n",
    "        return a + b\n",
    "    elif operation == \"subtract\":\n",
    "        return a - b\n",
    "    elif operation == \"multiply\":\n",
    "        return a * b\n",
    "    elif operation == \"divide\":\n",
    "        if b == 0:\n",
    "            return \"Error: Division by zero is not allowed.\"\n",
    "        return a / b\n",
    "    else:\n",
    "        return  \"'add' أو 'subtract' أو 'multiply' أو 'divide'.\"\n",
    "\n",
    "print(calculator(10, 5, \"add\"))       \n",
    "print(calculator(10, 5, \"subtract\"))  \n",
    "print(calculator(10, 5, \"multiply\")) \n",
    "print(calculator(10, 0, \"divide\"))   \n",
    "print(calculator(10, 5, \"modulus\"))   "
   ]
  }
 ],
 "metadata": {
  "kernelspec": {
   "display_name": "Python 3",
   "language": "python",
   "name": "python3"
  },
  "language_info": {
   "codemirror_mode": {
    "name": "ipython",
    "version": 3
   },
   "file_extension": ".py",
   "mimetype": "text/x-python",
   "name": "python",
   "nbconvert_exporter": "python",
   "pygments_lexer": "ipython3",
   "version": "3.13.1"
  }
 },
 "nbformat": 4,
 "nbformat_minor": 2
}
